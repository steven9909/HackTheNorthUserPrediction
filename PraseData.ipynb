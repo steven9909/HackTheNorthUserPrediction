{
 "cells": [
  {
   "cell_type": "code",
   "execution_count": 112,
   "metadata": {},
   "outputs": [],
   "source": [
    "import numpy as np\n",
    "import pandas as pd"
   ]
  },
  {
   "cell_type": "code",
   "execution_count": 113,
   "metadata": {},
   "outputs": [],
   "source": [
    "#num of tags to consider\n",
    "N = 4\n",
    "\n",
    "#num of user actions to consider\n",
    "MIN_USER_ACTION = 7"
   ]
  },
  {
   "cell_type": "code",
   "execution_count": 114,
   "metadata": {},
   "outputs": [],
   "source": [
    "class CsvReader:\n",
    "    \n",
    "    def __init__(self,directory,include):\n",
    "        self.csv_reader = pd.read_csv(directory,usecols=include)\n",
    "        \n",
    "    def getColumn(self,name):\n",
    "        return self.csv_reader[name]\n",
    "    \n",
    "    def findRows(self,column,value):\n",
    "        return self.csv_reader[self.csv_reader[column] == value]\n",
    "    \n",
    "    def length(self):\n",
    "        return len(self.csv_reader)\n",
    "    \n",
    "    def merge(self,other_csv,col,how):\n",
    "        return self.csv_reader.merge(other_csv,on=col,how=how)\n",
    "    \n",
    "    def getReader(self):\n",
    "        return self.csv_reader\n",
    "    \n",
    "    def sort(self,col):\n",
    "        self.csv_reader.sort(col)\n",
    "    \n",
    "class Util:\n",
    "    \n",
    "    tagMap = dict()\n",
    "    latestNumber = -1\n",
    "    \n",
    "    @staticmethod\n",
    "    def collectTags(key):\n",
    "        if key in Util.tagMap:\n",
    "            return\n",
    "        Util.tagMap[key] = Util.latestNumber + 1\n",
    "        Util.latestNumber +=1\n",
    "        \n",
    "    @staticmethod\n",
    "    def writeToFile():\n",
    "        \n",
    "        f = open('taglist.txt','w')\n",
    "        f.write(str(Util.latestNumber)+\"\\n\")\n",
    "\n",
    "        for key,value in Util.tagMap.items():\n",
    "            f.write(str(key)+\":\"+str(value)+\"\\n\")\n",
    "        f.close()\n",
    "    \n",
    "    @staticmethod\n",
    "    def clear():\n",
    "        Util.tagMap = dict()\n",
    "        Util.latestNumber = -1\n",
    "        \n",
    "    @staticmethod\n",
    "    def load(directory):\n",
    "        with open(directory,'r')as f:\n",
    "            Util.latestNumber = int(f.readline())\n",
    "          \n",
    "            for line in f:\n",
    "                line = line.split(':')\n",
    "                line[1] = line[1][0:len(line[1])-1]\n",
    "                Util.tagMap[line[0]] = line[1]\n",
    "    \n",
    "class Business:\n",
    "\n",
    "    def __init__(self,star,tags):\n",
    "    \n",
    "        self.feature_vector = np.zeros(shape=(1,1+N),dtype=np.float32)\n",
    "        \n",
    "        self.tags = tags\n",
    "        self.tags = self.tags.split(';')\n",
    "        self.tags.sort()\n",
    "        \n",
    "        while(len(self.tags) < N):\n",
    "            self.tags.append(\"None\")\n",
    "        \n",
    "        \n",
    "        self.feature_vector[0][0] = star\n",
    "        \n",
    "\n",
    "    def calculateFeatureVector(self):\n",
    "   \n",
    "        for i in range(1,N+1):\n",
    "            self.feature_vector[0][i] = int(Util.tagMap[self.tags[i-1]])/Util.latestNumber\n",
    "    \n",
    "    def __str__(self):\n",
    "        string = \"(\"\n",
    "        for i in range(0,len(self.feature_vector[0])):\n",
    "            if(i != len(self.feature_vector[0])-1):\n",
    "                string += str(self.feature_vector[0][i])+\",\"\n",
    "            else:\n",
    "                string += str(self.feature_vector[0][i])\n",
    "        string += \")\"\n",
    "        return string"
   ]
  },
  {
   "cell_type": "code",
   "execution_count": 115,
   "metadata": {},
   "outputs": [],
   "source": [
    "business_review_combined_csv = CsvReader(\"C:\\\\Users\\\\Steven\\\\Desktop\\\\yelp_updated.csv\",[\"business_id\",\"restaurant_rating\",\"categories\",\"date\",\"user_id\"])"
   ]
  },
  {
   "cell_type": "code",
   "execution_count": 116,
   "metadata": {},
   "outputs": [],
   "source": [
    "Util.load(\"C:\\\\Users\\\\Steven\\\\Desktop\\\\taglist.txt\")"
   ]
  },
  {
   "cell_type": "code",
   "execution_count": 117,
   "metadata": {},
   "outputs": [
    {
     "name": "stdout",
     "output_type": "stream",
     "text": [
      "finish loading in businesses dictionary\n"
     ]
    }
   ],
   "source": [
    "businesses = dict()\n",
    "\n",
    "for row in business_review_combined_csv.getReader().iterrows():\n",
    "    business_id = row[1][\"business_id\"]\n",
    "    stars = row[1][\"restaurant_rating\"]\n",
    "    categories = row[1][\"categories\"]\n",
    "    \n",
    "    business = Business(stars,categories)\n",
    "    \n",
    "    businesses[business_id] = business\n",
    "\n",
    "print(\"finish loading in businesses dictionary\")"
   ]
  },
  {
   "cell_type": "code",
   "execution_count": 118,
   "metadata": {},
   "outputs": [],
   "source": [
    "training_data_writer = open(\"training.txt\",\"w\")\n",
    "\n",
    "startIndex = 0\n",
    "\n",
    "for index,series in business_review_combined_csv.getReader().iterrows():\n",
    "    \n",
    "    if(index == 0):\n",
    "        startIndex = index\n",
    "    else:\n",
    "    \n",
    "        if(business_review_combined_csv.getReader().iat[startIndex,business_review_combined_csv.getReader().columns.get_loc('user_id')] != series[0]):\n",
    "            \n",
    "            if((index-startIndex) >= MIN_USER_ACTION+1):\n",
    "                \n",
    "                business_vectors = []\n",
    "            \n",
    "                for i in range(0,(index-startIndex)):\n",
    "                   \n",
    "                    business_vector =  businesses[business_review_combined_csv.getReader().iat[startIndex+i,business_review_combined_csv.getReader().columns.get_loc('business_id')]]\n",
    "                    \n",
    "                    business_vector.calculateFeatureVector()\n",
    "                    \n",
    "                    business_vectors.append(business_vector)\n",
    "                    if(not i == 0 and (len(business_vectors)%(MIN_USER_ACTION+1) == 0)):\n",
    "                        for j in range(0, len(business_vectors)):\n",
    "                            if(not j == len(business_vectors)-1):\n",
    "                                training_data_writer.write(str(business_vectors[j])+\",\")\n",
    "                            else:\n",
    "                                training_data_writer.write(str(business_vectors[j])+\"\\n\")\n",
    "                        business_vectors.pop(0)\n",
    "                \n",
    "                startIndex = index\n",
    "                \n",
    "                training_data_writer.write(\"\\n\")\n",
    "                \n",
    "            else:\n",
    "                startIndex = index\n",
    "        else:\n",
    "            pass\n",
    "\n"
   ]
  },
  {
   "cell_type": "code",
   "execution_count": 119,
   "metadata": {},
   "outputs": [],
   "source": [
    "training_data_writer.close()"
   ]
  },
  {
   "cell_type": "code",
   "execution_count": 22,
   "metadata": {},
   "outputs": [],
   "source": []
  },
  {
   "cell_type": "code",
   "execution_count": null,
   "metadata": {},
   "outputs": [],
   "source": []
  }
 ],
 "metadata": {
  "kernelspec": {
   "display_name": "Python 3",
   "language": "python",
   "name": "python3"
  },
  "language_info": {
   "codemirror_mode": {
    "name": "ipython",
    "version": 3
   },
   "file_extension": ".py",
   "mimetype": "text/x-python",
   "name": "python",
   "nbconvert_exporter": "python",
   "pygments_lexer": "ipython3",
   "version": "3.7.4"
  }
 },
 "nbformat": 4,
 "nbformat_minor": 2
}
